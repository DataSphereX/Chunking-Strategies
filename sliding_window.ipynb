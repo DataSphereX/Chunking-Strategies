{
 "cells": [
  {
   "cell_type": "code",
   "execution_count": 1,
   "metadata": {},
   "outputs": [],
   "source": [
    "def sliding_window_chunking(text, window_size, overlap_size):\n",
    "    \"\"\"\n",
    "    Segments the input text into overlapping chunks.\n",
    "\n",
    "    Args:\n",
    "        text (str): The input text to chunk.\n",
    "        window_size (int): The size of each chunk.\n",
    "        overlap_size (int): The size of overlap between chunks.\n",
    "\n",
    "    Returns:\n",
    "        List[str]: List of overlapping text chunks.\n",
    "    \"\"\"\n",
    "    chunks = []\n",
    "    start = 0\n",
    "    while start < len(text):\n",
    "        end = start + window_size\n",
    "        chunks.append(text[start:end])\n",
    "        start += window_size - overlap_size\n",
    "    return chunks\n"
   ]
  },
  {
   "cell_type": "code",
   "execution_count": 2,
   "metadata": {},
   "outputs": [
    {
     "name": "stdout",
     "output_type": "stream",
     "text": [
      "Chunk 1: Data chunking is essential for handling large text\n",
      "Chunk 2:  handling large text streams. Sliding window techn\n",
      "Chunk 3: Sliding window techniques preserve crucial context\n",
      "Chunk 4: erve crucial context.\n"
     ]
    }
   ],
   "source": [
    "sample_text = (\n",
    "    \"Data chunking is essential for handling large text streams. \"\n",
    "    \"Sliding window techniques preserve crucial context.\"\n",
    ")\n",
    "\n",
    "window_size = 50\n",
    "overlap_size = 20\n",
    "chunks = sliding_window_chunking(sample_text, window_size, overlap_size)\n",
    "\n",
    "for i, chunk in enumerate(chunks):\n",
    "    print(f\"Chunk {i+1}: {chunk}\")"
   ]
  },
  {
   "cell_type": "code",
   "execution_count": 3,
   "metadata": {},
   "outputs": [
    {
     "name": "stdout",
     "output_type": "stream",
     "text": [
      "Chunk 1:\n",
      "Natural Language Processing (NLP) involves understanding and generatin\n",
      "\n",
      "Chunk 2:\n",
      "es understanding and generating human language. It has applications in\n",
      "\n",
      "Chunk 3:\n",
      "nguage. It has applications in sentiment analysis, machine translation\n",
      "\n",
      "Chunk 4:\n",
      " analysis, machine translation, and more. One challenge in NLP is segm\n",
      "\n",
      "Chunk 5:\n",
      ". One challenge in NLP is segmenting long text streams into manageable\n",
      "\n",
      "Chunk 6:\n",
      "g text streams into manageable pieces. Sliding window chunking helps i\n",
      "\n",
      "Chunk 7:\n",
      "liding window chunking helps in preserving the context by overlapping \n",
      "\n",
      "Chunk 8:\n",
      "ng the context by overlapping chunks. This approach is particularly us\n",
      "\n",
      "Chunk 9:\n",
      "is approach is particularly useful in tasks like summarization and lan\n",
      "\n",
      "Chunk 10:\n",
      "sks like summarization and language modeling.\n",
      "\n",
      "Chunk 11:\n",
      "ling.\n",
      "\n"
     ]
    }
   ],
   "source": [
    "sample_document = (\n",
    "    \"Natural Language Processing (NLP) involves understanding and generating human language. \"\n",
    "    \"It has applications in sentiment analysis, machine translation, and more. \"\n",
    "    \"One challenge in NLP is segmenting long text streams into manageable pieces. \"\n",
    "    \"Sliding window chunking helps in preserving the context by overlapping chunks. \"\n",
    "    \"This approach is particularly useful in tasks like summarization and language modeling.\"\n",
    ")\n",
    "\n",
    "# Parameters\n",
    "window_size = 70\n",
    "overlap_size = 30\n",
    "\n",
    "# Using the sliding_window_chunking function\n",
    "chunks = sliding_window_chunking(sample_document, window_size, overlap_size)\n",
    "\n",
    "# Display the chunks\n",
    "for i, chunk in enumerate(chunks):\n",
    "    print(f\"Chunk {i+1}:\\n{chunk}\\n\")"
   ]
  },
  {
   "cell_type": "code",
   "execution_count": 4,
   "metadata": {},
   "outputs": [
    {
     "name": "stdout",
     "output_type": "stream",
     "text": [
      "Chunk 1:\n",
      "Natural Language Processing (NLP) involves understanding and\n",
      "\n",
      "Chunk 2:\n",
      "involves understanding and generating human language. It has\n",
      "\n",
      "Chunk 3:\n",
      "human language. It has applications in sentiment analysis, machine\n",
      "\n",
      "Chunk 4:\n",
      "sentiment analysis, machine translation, and more. One challenge in\n",
      "\n",
      "Chunk 5:\n",
      "and more. One challenge in NLP is segmenting long text streams into\n",
      "\n",
      "Chunk 6:\n",
      "long text streams into manageable pieces. Sliding window chunking\n",
      "\n",
      "Chunk 7:\n",
      "Sliding window chunking helps in preserving the context by\n",
      "\n",
      "Chunk 8:\n",
      "in preserving the context by overlapping chunks. This approach is\n",
      "\n",
      "Chunk 9:\n",
      "chunks. This approach is particularly useful in tasks like\n",
      "\n",
      "Chunk 10:\n",
      "useful in tasks like summarization and language modeling.\n",
      "\n"
     ]
    }
   ],
   "source": [
    "from langchain.text_splitter import RecursiveCharacterTextSplitter\n",
    "\n",
    "# Sample document\n",
    "sample_document = (\n",
    "    \"Natural Language Processing (NLP) involves understanding and generating human language. \"\n",
    "    \"It has applications in sentiment analysis, machine translation, and more. \"\n",
    "    \"One challenge in NLP is segmenting long text streams into manageable pieces. \"\n",
    "    \"Sliding window chunking helps in preserving the context by overlapping chunks. \"\n",
    "    \"This approach is particularly useful in tasks like summarization and language modeling.\"\n",
    ")\n",
    "\n",
    "# Define parameters\n",
    "chunk_size = 70  # Window size\n",
    "chunk_overlap = 30  # Overlap size\n",
    "\n",
    "# Use RecursiveCharacterTextSplitter with sliding window settings\n",
    "text_splitter = RecursiveCharacterTextSplitter(\n",
    "    chunk_size=chunk_size,\n",
    "    chunk_overlap=chunk_overlap\n",
    ")\n",
    "\n",
    "# Split the document into chunks\n",
    "chunks = text_splitter.split_text(sample_document)\n",
    "\n",
    "# Display the chunks\n",
    "for i, chunk in enumerate(chunks):\n",
    "    print(f\"Chunk {i+1}:\\n{chunk}\\n\")\n"
   ]
  }
 ],
 "metadata": {
  "kernelspec": {
   "display_name": "base",
   "language": "python",
   "name": "python3"
  },
  "language_info": {
   "codemirror_mode": {
    "name": "ipython",
    "version": 3
   },
   "file_extension": ".py",
   "mimetype": "text/x-python",
   "name": "python",
   "nbconvert_exporter": "python",
   "pygments_lexer": "ipython3",
   "version": "3.11.5"
  }
 },
 "nbformat": 4,
 "nbformat_minor": 2
}
